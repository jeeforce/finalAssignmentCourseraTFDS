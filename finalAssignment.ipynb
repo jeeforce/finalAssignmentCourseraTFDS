{
  "metadata": {
    "kernelspec": {
      "name": "python",
      "display_name": "Pyolite",
      "language": "python"
    },
    "language_info": {
      "codemirror_mode": {
        "name": "python",
        "version": 3
      },
      "file_extension": ".py",
      "mimetype": "text/x-python",
      "name": "python",
      "nbconvert_exporter": "python",
      "pygments_lexer": "ipython3",
      "version": "3.8"
    }
  },
  "nbformat_minor": 4,
  "nbformat": 4,
  "cells": [
    {
      "cell_type": "markdown",
      "source": "<h1> My Jupyter Notebook on IBM Watson Studio </h1>",
      "metadata": {}
    },
    {
      "cell_type": "markdown",
      "source": "**Katanyu Wongkittikarn** <br>Currently working as Software Engineer",
      "metadata": {}
    },
    {
      "cell_type": "markdown",
      "source": "*I am interested in Data Science because nowaday everything is all about data and it is powerful and can be utilized to empower the decision that we make in our life*",
      "metadata": {}
    },
    {
      "cell_type": "markdown",
      "source": "<h3>The code below is to find the value of linear function by taking gradient, x and c</h3>",
      "metadata": {}
    },
    {
      "cell_type": "code",
      "source": "def find_linear(gradient, x, c):\n    y = (gradient*x) + c\n    \n    return y\n\nfind_linear(1,2,3)",
      "metadata": {},
      "execution_count": null,
      "outputs": [
        {
          "execution_count": 2,
          "output_type": "execute_result",
          "data": {
            "text/plain": "5"
          },
          "metadata": {}
        }
      ]
    },
    {
      "cell_type": "markdown",
      "source": "<a href=\"https://www.google.com\">Code is too hard ?</a>\n\n| COLUMN1 | COL2 | COL3 |\n| ------ | ------ | ------ |\n| idk | idk | idk | idk |\n| idk | idk | idk | idk |\n| idk | idk | idk | idk |\n| idk | idk | idk | idk |\n\n\n<img src=\"https://i.pinimg.com/736x/78/e3/6c/78e36c8c096aeb13b46a3b41cd934c9f.jpg\"/>",
      "metadata": {}
    }
  ]
}